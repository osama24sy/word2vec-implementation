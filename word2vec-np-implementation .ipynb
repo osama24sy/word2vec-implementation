{
 "cells": [
  {
   "cell_type": "code",
   "execution_count": 1,
   "metadata": {
    "id": "ZRE455SpTET8"
   },
   "outputs": [],
   "source": [
    "import numpy as np\n",
    "import re\n",
    "from collections import Counter"
   ]
  },
  {
   "cell_type": "code",
   "execution_count": 2,
   "metadata": {
    "id": "wshd3MduFpqz"
   },
   "outputs": [],
   "source": [
    "class word2vec():\n",
    "    def __init__ (self):\n",
    "        self.n = settings['n']\n",
    "        self.eta = settings['learning_rate']\n",
    "        self.epochs = settings['epochs']\n",
    "        self.window = settings['window_size']\n",
    "        self.num_word = settings['num_word']\n",
    "        pass\n",
    "\n",
    "\n",
    "    # GENERATE TRAINING DATA\n",
    "    def generate_training_data(self, settings, corpus):\n",
    "\n",
    "        # GENERATE WORD COUNTS\n",
    "        word_counts = dict(sorted(Counter(sum(sentences,[])).items(), key=lambda item: item[1],reverse=True))\n",
    "\n",
    "        self.v_count = min(len(word_counts.keys()), self.num_word)\n",
    "\n",
    "        # GENERATE LOOKUP DICTIONARIES\n",
    "        self.words_list = list(word_counts.keys())\n",
    "        self.word_index = dict((word, i) for i, word in enumerate(self.words_list[:self.v_count]))\n",
    "        self.index_word = dict((i, word) for i, word in enumerate(self.words_list[:self.v_count]))\n",
    "\n",
    "        training_data = []\n",
    "        # CYCLE THROUGH EACH SENTENCE IN CORPUS\n",
    "        for sentence in corpus:\n",
    "            sent_len = len(sentence)\n",
    "\n",
    "            # CYCLE THROUGH EACH WORD IN SENTENCE\n",
    "            for i, word in enumerate(sentence):\n",
    "                #w_target  = sentence[i]\n",
    "                if sentence[i] in self.word_index :\n",
    "                  w_target =   self.word_index[sentence[i]]\n",
    "\n",
    "                  # CYCLE THROUGH CONTEXT WINDOW\n",
    "                  w_context = []\n",
    "                  for j in range(i-self.window, i+self.window+1):\n",
    "                      if j!=i and j<=sent_len-1 and j>=0 and (sentence[j] in self.word_index):\n",
    "                          w_context.append(self.word_index[sentence[j]])\n",
    "                  if w_context != [] :\n",
    "                    training_data.append([w_target, w_context])\n",
    "        return np.array(training_data, dtype=object)\n",
    "\n",
    "\n",
    "    # SOFTMAX ACTIVATION FUNCTION\n",
    "    def softmax(self, x):\n",
    "        e_x = np.exp(x - np.max(x))\n",
    "        return e_x / e_x.sum(axis=0)\n",
    "\n",
    "\n",
    "    # CONVERT WORD TO ONE HOT ENCODING\n",
    "    def word2onehot(self, word):\n",
    "        word_vec = [0 for i in range(0, self.v_count)]\n",
    "        word_vec[word] = 1\n",
    "        return word_vec\n",
    "\n",
    "\n",
    "    # FORWARD PASS\n",
    "    def forward_pass(self, x):\n",
    "        #h = np.dot(self.w1.T, x)\n",
    "        h=self.w1[x]\n",
    "        u = np.dot(self.w2.T, h)\n",
    "        y_c = self.softmax(u)\n",
    "        return y_c, h, u\n",
    "\n",
    "\n",
    "    # BACKPROPAGATION\n",
    "    def backprop(self, e, h, x):\n",
    "        dl_dw1 = np.dot(self.w2, e)\n",
    "        dl_dw2 = np.outer(h, e)\n",
    "\n",
    "\n",
    "        # UPDATE WEIGHTS\n",
    "        self.w1[x] = self.w1[x] - (self.eta * dl_dw1)\n",
    "        self.w2 = self.w2 - (self.eta * dl_dw2)\n",
    "        # print(self.w1.shape, dl_dw1.shape, self.w2.shape, dl_dw2.shape)\n",
    "        pass\n",
    "\n",
    "\n",
    "    # TRAIN W2V model\n",
    "    def train(self,training_data):\n",
    "        # INITIALIZE WEIGHT MATRICES\n",
    "        self.w1 = np.random.uniform(-0.8, 0.8, (self.v_count, self.n))     # embedding matrix\n",
    "        self.w2 = np.random.uniform(-0.8, 0.8, (self.n, self.v_count))     # context matrix\n",
    "        #train_leng= len(training_data)\n",
    "        # CYCLE THROUGH EACH EPOCH\n",
    "        self.losses = []\n",
    "        for i in range(0, self.epochs):\n",
    "            #counter =0\n",
    "            self.loss = 0\n",
    "            # CYCLE THROUGH EACH TRAINING SAMPLE\n",
    "            for t, c in training_data:\n",
    "                #w_t=self.word2onehot(t)\n",
    "                w_c=[]\n",
    "                for j in c:\n",
    "                  w_c.append(self.word2onehot(j))\n",
    "                #counter+=1\n",
    "                #print(counter/train_leng)\n",
    "                # FORWARD PASS\n",
    "                y_pred, h, u = self.forward_pass(t)\n",
    "\n",
    "                # CALCULATE ERROR\n",
    "                EI = np.subtract( y_pred *len(w_c),np.sum(w_c, axis=0))\n",
    "\n",
    "                # BACKPROPAGATION\n",
    "                self.backprop(EI, h, t)\n",
    "\n",
    "                # CALCULATE LOSS\n",
    "                self.loss += -np.sum([u[j] for j in c]) + len(w_c) * np.log(np.sum(np.exp(u)))\n",
    "\n",
    "            #self.loss += -2*np.log(len(w_c)) -np.sum([u[word.index(1)] for word in w_c]) + (len(w_c) * np.log(np.sum(np.exp(u))))\n",
    "            self.losses.append(self.loss)\n",
    "            print ('EPOCH:',i, 'LOSS:', self.loss)\n",
    "        pass\n",
    "\n",
    "\n",
    "    # input a word, returns a vector (if available)\n",
    "    def word_vec(self, word):\n",
    "        w_index = self.word_index[word]\n",
    "        v_w = self.w1[w_index]\n",
    "        return v_w\n",
    "\n",
    "\n",
    "    # input a vector, returns nearest word(s)\n",
    "    def vec_sim(self, vec, top_n):\n",
    "\n",
    "        # CYCLE THROUGH VOCAB\n",
    "        word_sim = {}\n",
    "        for i in range(self.v_count):\n",
    "            v_w2 = self.w1[i]\n",
    "            theta_num = np.dot(vec, v_w2)\n",
    "            theta_den = np.linalg.norm(vec) * np.linalg.norm(v_w2)\n",
    "            theta = theta_num / theta_den\n",
    "\n",
    "            word = self.index_word[i]\n",
    "            word_sim[word] = theta\n",
    "\n",
    "        words_sorted = sorted(word_sim.items(), key=lambda item: item[1], reverse=True)\n",
    "\n",
    "        for word, sim in words_sorted[:top_n]:\n",
    "            print (word, sim)\n",
    "\n",
    "        pass\n",
    "\n",
    "    # input word, returns top [n] most similar words\n",
    "    def word_sim(self, word, top_n):\n",
    "\n",
    "        w1_index = self.word_index[word]\n",
    "        v_w1 = self.w1[w1_index]\n",
    "\n",
    "        # CYCLE THROUGH VOCAB\n",
    "        word_sim = {}\n",
    "        for i in range(self.v_count):\n",
    "            v_w2 = self.w1[i]\n",
    "            theta_num = np.dot(v_w1, v_w2)\n",
    "            theta_den = np.linalg.norm(v_w1) * np.linalg.norm(v_w2)\n",
    "            theta = theta_num / theta_den\n",
    "\n",
    "            word = self.index_word[i]\n",
    "            word_sim[word] = theta\n",
    "\n",
    "        words_sorted = sorted(word_sim.items(), key=lambda item: item[1], reverse=True)\n",
    "\n",
    "        for word, sim in words_sorted[:top_n]:\n",
    "            print (word, sim)\n",
    "\n",
    "        pass"
   ]
  },
  {
   "cell_type": "code",
   "execution_count": 3,
   "metadata": {
    "colab": {
     "base_uri": "https://localhost:8080/"
    },
    "id": "XUxgIjfWceWd",
    "outputId": "09436fd2-ed72-4389-ec42-74794027a56b"
   },
   "outputs": [
    {
     "name": "stderr",
     "output_type": "stream",
     "text": [
      "[nltk_data] Downloading package stopwords to /root/nltk_data...\n",
      "[nltk_data]   Unzipping corpora/stopwords.zip.\n"
     ]
    },
    {
     "data": {
      "text/plain": [
       "True"
      ]
     },
     "execution_count": 3,
     "metadata": {},
     "output_type": "execute_result"
    }
   ],
   "source": [
    "import nltk\n",
    "from nltk.corpus import stopwords\n",
    "\n",
    "nltk.download('stopwords')"
   ]
  },
  {
   "cell_type": "code",
   "execution_count": 10,
   "metadata": {
    "id": "aj7wokF1KJsc"
   },
   "outputs": [],
   "source": [
    "settings = {}\n",
    "settings['n'] = 50                  # dimension of word embeddings\n",
    "settings['window_size'] = 5         # context window +/- center word\n",
    "# settings['min_count'] = 2         # minimum word count\n",
    "settings['epochs'] = 25             # number of training epochs\n",
    "# settings['neg_samp'] = 10         # number of negative words to use during training\n",
    "settings['learning_rate'] = 0.05    # learning rate\n",
    "settings['num_word'] = 1000         # Number of the most frequent unique words\n",
    "np.random.seed(0)                   # set the seed for reproducibility\n",
    "\n",
    "# Import file\n",
    "corpus_raw = ''\n",
    "text_data = open(\"./alice.txt\", \"r\",encoding='unicode_escape')\n",
    "for line in text_data.readlines():\n",
    "  corpus_raw += line\n",
    "text_data.close()\n",
    "corpus_raw = corpus_raw.lower()\n",
    "\n",
    "stop_words = set(stopwords.words('english'))\n",
    "sentences = []\n",
    "raw_sentences = re.split(r\"[.,]\", corpus_raw)\n",
    "for sentence in raw_sentences:\n",
    "  if sentence != '':\n",
    "    tem = re.sub(r'[^\\w\\s]', '', sentence)\n",
    "    temp = re.sub(\"[^a-zA-Z]\",\" \", tem).split()\n",
    "    sent = []\n",
    "    for word in temp:\n",
    "      if word in stop_words:\n",
    "        continue\n",
    "      else:\n",
    "        sent.append(word)\n",
    "    if len(sent) > 1:\n",
    "      sentences.append(sent)\n"
   ]
  },
  {
   "cell_type": "code",
   "execution_count": 11,
   "metadata": {
    "colab": {
     "base_uri": "https://localhost:8080/"
    },
    "id": "fMvmjLr8KOcj",
    "outputId": "45309d66-244f-423b-8d20-fc695f7e34ce"
   },
   "outputs": [
    {
     "name": "stdout",
     "output_type": "stream",
     "text": [
      "EPOCH: 0 LOSS: 255102.83911193302\n",
      "EPOCH: 1 LOSS: 218029.91351965658\n",
      "EPOCH: 2 LOSS: 204870.59481425319\n",
      "EPOCH: 3 LOSS: 196585.78223150256\n",
      "EPOCH: 4 LOSS: 190558.1339556373\n",
      "EPOCH: 5 LOSS: 186051.82779156012\n",
      "EPOCH: 6 LOSS: 182649.05341515632\n",
      "EPOCH: 7 LOSS: 180043.0936360589\n",
      "EPOCH: 8 LOSS: 178013.61779159232\n",
      "EPOCH: 9 LOSS: 176405.1354971942\n",
      "EPOCH: 10 LOSS: 175110.7030541821\n",
      "EPOCH: 11 LOSS: 174054.1916102928\n",
      "EPOCH: 12 LOSS: 173180.84313008684\n",
      "EPOCH: 13 LOSS: 172450.9091669846\n",
      "EPOCH: 14 LOSS: 171835.0833531646\n",
      "EPOCH: 15 LOSS: 171311.20207268395\n",
      "EPOCH: 16 LOSS: 170862.02910101973\n",
      "EPOCH: 17 LOSS: 170474.0151239095\n",
      "EPOCH: 18 LOSS: 170136.45836481222\n",
      "EPOCH: 19 LOSS: 169840.95866453\n",
      "EPOCH: 20 LOSS: 169580.88513890834\n",
      "EPOCH: 21 LOSS: 169350.96647420197\n",
      "EPOCH: 22 LOSS: 169146.90034667027\n",
      "EPOCH: 23 LOSS: 168965.18930458813\n",
      "EPOCH: 24 LOSS: 168802.8670132958\n"
     ]
    }
   ],
   "source": [
    "# INITIALIZE W2V MODEL\n",
    "w2v = word2vec()\n",
    "\n",
    "# generate training data\n",
    "training_data = w2v.generate_training_data(settings, sentences)\n",
    "\n",
    "# train word2vec model\n",
    "w2v.train(training_data)"
   ]
  },
  {
   "cell_type": "code",
   "execution_count": 12,
   "metadata": {
    "colab": {
     "base_uri": "https://localhost:8080/"
    },
    "id": "D027x7vfMtmc",
    "outputId": "545473d2-5c1c-48d4-b540-c784de6e0fed"
   },
   "outputs": [
    {
     "name": "stdout",
     "output_type": "stream",
     "text": [
      "alice 0.9999999999999999\n",
      "decidedly 0.5178927577927134\n",
      "angrily 0.5076996142361893\n",
      "said 0.4592544409528137\n",
      "nervous 0.4392888574568768\n",
      "air 0.42759187952087924\n",
      "mean 0.42573933404431746\n",
      "doors 0.4247877849118797\n",
      "king 0.4247825003575683\n",
      "puzzled 0.4164874230659222\n"
     ]
    }
   ],
   "source": [
    "w2v.word_sim(\"alice\", 10)"
   ]
  },
  {
   "cell_type": "code",
   "execution_count": 13,
   "metadata": {
    "id": "Yfc_ce5sM7s8"
   },
   "outputs": [],
   "source": [
    "import pandas as pd\n",
    "import seaborn as sns\n",
    "losses= w2v.losses"
   ]
  },
  {
   "cell_type": "code",
   "execution_count": 14,
   "metadata": {
    "colab": {
     "base_uri": "https://localhost:8080/"
    },
    "id": "VAu34zwB7RUo",
    "outputId": "779760e9-1808-4c14-c90f-7fe4dab21257"
   },
   "outputs": [
    {
     "name": "stdout",
     "output_type": "stream",
     "text": [
      "[255102.83911193302, 218029.91351965658, 204870.59481425319, 196585.78223150256, 190558.1339556373, 186051.82779156012, 182649.05341515632, 180043.0936360589, 178013.61779159232, 176405.1354971942, 175110.7030541821, 174054.1916102928, 173180.84313008684, 172450.9091669846, 171835.0833531646, 171311.20207268395, 170862.02910101973, 170474.0151239095, 170136.45836481222, 169840.95866453, 169580.88513890834, 169350.96647420197, 169146.90034667027, 168965.18930458813, 168802.8670132958]\n"
     ]
    }
   ],
   "source": [
    "print(losses)"
   ]
  },
  {
   "cell_type": "code",
   "execution_count": 15,
   "metadata": {
    "colab": {
     "base_uri": "https://localhost:8080/",
     "height": 430
    },
    "id": "jbQ7Min79gBm",
    "outputId": "ea906929-3745-4c6d-e222-7160e576c932"
   },
   "outputs": [
    {
     "data": {
      "image/png": "[encoded data removed]",
      "text/plain": [
       "<Figure size 640x480 with 1 Axes>"
      ]
     },
     "metadata": {},
     "output_type": "display_data"
    }
   ],
   "source": [
    "import matplotlib.pyplot as plt\n",
    "plt.plot(losses)\n",
    "plt.show()"
   ]
  },
  {
   "cell_type": "code",
   "execution_count": 17,
   "metadata": {
    "colab": {
     "base_uri": "https://localhost:8080/"
    },
    "id": "Ev5h-DtD7Pcg",
    "outputId": "df69f2b9-583a-486c-c63a-cbe01cecaaba"
   },
   "outputs": [
    {
     "name": "stdout",
     "output_type": "stream",
     "text": [
      "queen 1.0\n",
      "playing 0.5726733827874645\n",
      "players 0.4858696402099616\n",
      "sentence 0.4683005708914219\n",
      "shrill 0.4478213274076884\n",
      "reply 0.43713570237765387\n",
      "rabbit 0.4367039455375735\n",
      "unfortunate 0.43172741823311755\n",
      "silent 0.42111936399281186\n",
      "shes 0.4188618663492833\n"
     ]
    }
   ],
   "source": [
    "w2v.word_sim(\"queen\", 10)"
   ]
  },
  {
   "cell_type": "code",
   "execution_count": 18,
   "metadata": {
    "colab": {
     "base_uri": "https://localhost:8080/"
    },
    "id": "2a69o9K2Hsf7",
    "outputId": "d5236369-a2d1-46e7-8e71-924416badbfe"
   },
   "outputs": [
    {
     "name": "stdout",
     "output_type": "stream",
     "text": [
      "king 1.0000000000000002\n",
      "sleepy 0.4991703923749641\n",
      "said 0.4799455464445272\n",
      "angry 0.47772198562393065\n",
      "twinkling 0.46740668717349676\n",
      "guessed 0.46111223710970656\n",
      "begins 0.4597458610831442\n",
      "white 0.44167740500538355\n",
      "hoarse 0.43612887744924284\n",
      "interrupted 0.4302008590601845\n"
     ]
    }
   ],
   "source": [
    "w2v.word_sim(\"king\", 10)"
   ]
  }
 ],
 "metadata": {
  "colab": {
   "provenance": []
  },
  "kernelspec": {
   "display_name": "Python 3 (ipykernel)",
   "language": "python",
   "name": "python3"
  },
  "language_info": {
   "codemirror_mode": {
    "name": "ipython",
    "version": 3
   },
   "file_extension": ".py",
   "mimetype": "text/x-python",
   "name": "python",
   "nbconvert_exporter": "python",
   "pygments_lexer": "ipython3",
   "version": "3.11.3"
  }
 },
 "nbformat": 4,
 "nbformat_minor": 1
}
