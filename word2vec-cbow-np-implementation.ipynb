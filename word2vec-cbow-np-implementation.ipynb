{
 "cells": [
  {
   "cell_type": "code",
   "execution_count": 28,
   "metadata": {
    "id": "ZRE455SpTET8"
   },
   "outputs": [],
   "source": [
    "import numpy as np\n",
    "import re\n",
    "from collections import Counter"
   ]
  },
  {
   "cell_type": "code",
   "execution_count": 29,
   "metadata": {
    "id": "wshd3MduFpqz"
   },
   "outputs": [],
   "source": [
    "class word2vec():\n",
    "    def __init__ (self):\n",
    "        self.n = settings['n']\n",
    "        self.eta = settings['learning_rate']\n",
    "        self.epochs = settings['epochs']\n",
    "        self.window = settings['window_size']\n",
    "        self.num_word = settings['num_word']\n",
    "        pass\n",
    "\n",
    "\n",
    "    # GENERATE TRAINING DATA\n",
    "    def generate_training_data(self, settings, corpus):\n",
    "\n",
    "        # GENERATE WORD COUNTS\n",
    "        word_counts =dict(sorted(Counter(sum(sentences,[])).items(), key=lambda item: item[1],reverse=True))\n",
    "\n",
    "        self.v_count = min(len(word_counts.keys()), self.num_word)\n",
    "\n",
    "        # GENERATE LOOKUP DICTIONARIES\n",
    "        self.words_list = list(word_counts.keys())\n",
    "        self.word_index = dict((word, i) for i, word in enumerate(self.words_list[:self.v_count]))\n",
    "        self.index_word = dict((i, word) for i, word in enumerate(self.words_list[:self.v_count]))\n",
    "\n",
    "        training_data = []\n",
    "        # CYCLE THROUGH EACH SENTENCE IN CORPUS\n",
    "        for sentence in corpus:\n",
    "            sent_len = len(sentence)\n",
    "\n",
    "            # CYCLE THROUGH EACH WORD IN SENTENCE\n",
    "            for i, word in enumerate(sentence):\n",
    "                #w_target  = sentence[i]\n",
    "                if sentence[i] in self.word_index :\n",
    "                  w_target =   self.word_index[sentence[i]]\n",
    "\n",
    "                  # CYCLE THROUGH CONTEXT WINDOW\n",
    "                  w_context = []\n",
    "                  for j in range(i-self.window, i+self.window+1):\n",
    "                      if j!=i and j<=sent_len-1 and j>=0 and (sentence[j] in self.word_index):\n",
    "                          w_context.append(self.word_index[sentence[j]])\n",
    "                  if w_context != [] :\n",
    "                    training_data.append([w_target, w_context])\n",
    "        return np.array(training_data, dtype=object)\n",
    "\n",
    "\n",
    "    # SOFTMAX ACTIVATION FUNCTION\n",
    "    def softmax(self, x):\n",
    "        e_x = np.exp(x - np.max(x))\n",
    "        return e_x / e_x.sum(axis=0)\n",
    "\n",
    "\n",
    "    # CONVERT WORD TO ONE HOT ENCODING\n",
    "    def word2onehot(self, word):\n",
    "        word_vec = [0 for i in range(0, self.v_count)]\n",
    "        word_vec[word] = 1\n",
    "        return word_vec\n",
    "\n",
    "\n",
    "    # FORWARD PASS\n",
    "    def forward_pass(self, x):\n",
    "        #h = np.dot(self.w1.T, x)\n",
    "        h=np.sum(self.w1[x],axis=0)\n",
    "        u = np.dot(self.w2.T, h)\n",
    "        y_c = self.softmax(u)\n",
    "        return y_c, h, u\n",
    "\n",
    "\n",
    "    # BACKPROPAGATION\n",
    "    def backprop(self, e, h, x):\n",
    "        dl_dw1 = np.dot(self.w2, e)\n",
    "        dl_dw2 = np.outer(h, e)\n",
    "\n",
    "\n",
    "        # UPDATE WEIGHTS\n",
    "        for i in x :\n",
    "          self.w1[i] = self.w1[i] - (self.eta * dl_dw1)\n",
    "        self.w2 = self.w2 - (self.eta * dl_dw2)\n",
    "        # print(self.w1.shape, dl_dw1.shape, self.w2.shape, dl_dw2.shape)\n",
    "        pass\n",
    "\n",
    "\n",
    "    # TRAIN W2V model\n",
    "    def train(self,training_data):\n",
    "        # INITIALIZE WEIGHT MATRICES\n",
    "        self.w1 = np.random.uniform(-0.8, 0.8, (self.v_count, self.n))     # embedding matrix\n",
    "        self.w2 = np.random.uniform(-0.8, 0.8, (self.n, self.v_count))     # context matrix\n",
    "        #train_leng= len(training_data)\n",
    "        # CYCLE THROUGH EACH EPOCH\n",
    "        self.losses = []\n",
    "        for i in range(0, self.epochs):\n",
    "            #counter =0\n",
    "            self.loss = 0\n",
    "            # CYCLE THROUGH EACH TRAINING SAMPLE\n",
    "            for t, c in training_data:\n",
    "\n",
    "                w_t = self.word2onehot(t)\n",
    "                #counter+=1\n",
    "                #print(counter/train_leng)\n",
    "                # FORWARD PASS\n",
    "                y_pred, h, u = self.forward_pass(c)\n",
    "\n",
    "                # CALCULATE ERROR\n",
    "                EI = np.subtract( y_pred,w_t)\n",
    "\n",
    "                # BACKPROPAGATION\n",
    "                self.backprop(EI, h, c)\n",
    "\n",
    "                # CALCULATE LOSS\n",
    "                self.loss += -u[t] + np.log(np.sum(np.exp(u)))\n",
    "                #self.loss += -np.sum([u[j] for j in c]) + len(w_c) * np.log(np.sum(np.exp(u)))\n",
    "\n",
    "            #self.loss += -2*np.log(len(w_c)) -np.sum([u[word.index(1)] for word in w_c]) + (len(w_c) * np.log(np.sum(np.exp(u))))\n",
    "            self.losses.append(self.loss)\n",
    "            print ('EPOCH:',i, 'LOSS:', self.loss)\n",
    "        pass\n",
    "\n",
    "\n",
    "    # input a word, returns a vector (if available)\n",
    "    def word_vec(self, word):\n",
    "        w_index = self.word_index[word]\n",
    "        v_w = self.w1[w_index]\n",
    "        return v_w\n",
    "\n",
    "\n",
    "    # input a vector, returns nearest word(s)\n",
    "    def vec_sim(self, vec, top_n):\n",
    "\n",
    "        # CYCLE THROUGH VOCAB\n",
    "        word_sim = {}\n",
    "        for i in range(self.v_count):\n",
    "            v_w2 = self.w1[i]\n",
    "            theta_num = np.dot(vec, v_w2)\n",
    "            theta_den = np.linalg.norm(vec) * np.linalg.norm(v_w2)\n",
    "            theta = theta_num / theta_den\n",
    "\n",
    "            word = self.index_word[i]\n",
    "            word_sim[word] = theta\n",
    "\n",
    "        words_sorted = sorted(word_sim.items(), key=lambda item: item[1], reverse=True)\n",
    "\n",
    "        for word, sim in words_sorted[:top_n]:\n",
    "            print (word, sim)\n",
    "\n",
    "        pass\n",
    "\n",
    "    # input word, returns top [n] most similar words\n",
    "    def word_sim(self, word, top_n):\n",
    "\n",
    "        w1_index = self.word_index[word]\n",
    "        v_w1 = self.w1[w1_index]\n",
    "\n",
    "        # CYCLE THROUGH VOCAB\n",
    "        word_sim = {}\n",
    "        for i in range(self.v_count):\n",
    "            v_w2 = self.w1[i]\n",
    "            theta_num = np.dot(v_w1, v_w2)\n",
    "            theta_den = np.linalg.norm(v_w1) * np.linalg.norm(v_w2)\n",
    "            theta = theta_num / theta_den\n",
    "\n",
    "            word = self.index_word[i]\n",
    "            word_sim[word] = theta\n",
    "\n",
    "        words_sorted = sorted(word_sim.items(), key=lambda item: item[1], reverse=True)\n",
    "\n",
    "        for word, sim in words_sorted[:top_n]:\n",
    "            print (word, sim)\n",
    "\n",
    "        pass"
   ]
  },
  {
   "cell_type": "code",
   "execution_count": 30,
   "metadata": {
    "colab": {
     "base_uri": "https://localhost:8080/"
    },
    "id": "XUxgIjfWceWd",
    "outputId": "6e1fad5e-8068-46d7-8c6a-b686e013f8a0"
   },
   "outputs": [
    {
     "name": "stderr",
     "output_type": "stream",
     "text": [
      "[nltk_data] Downloading package stopwords to /root/nltk_data...\n",
      "[nltk_data]   Package stopwords is already up-to-date!\n"
     ]
    },
    {
     "data": {
      "text/plain": [
       "True"
      ]
     },
     "execution_count": 30,
     "metadata": {},
     "output_type": "execute_result"
    }
   ],
   "source": [
    "import nltk\n",
    "from nltk.corpus import stopwords\n",
    "\n",
    "nltk.download('stopwords')"
   ]
  },
  {
   "cell_type": "code",
   "execution_count": 31,
   "metadata": {
    "id": "aj7wokF1KJsc"
   },
   "outputs": [],
   "source": [
    "settings = {}\n",
    "settings['n'] = 50                  # dimension of word embeddings\n",
    "settings['window_size'] = 2         # context window +/- center word\n",
    "# settings['min_count'] = 2         # minimum word count\n",
    "settings['epochs'] = 25             # number of training epochs\n",
    "# settings['neg_samp'] = 10         # number of negative words to use during training\n",
    "settings['learning_rate'] = 0.05    # learning rate\n",
    "settings['num_word'] = 1000         # Number of the most frequent unique words\n",
    "np.random.seed(0)                   # set the seed for reproducibility\n",
    "\n",
    "# Import file\n",
    "corpus_raw = ''\n",
    "text_data = open(\"./data.txt\", \"r\",encoding='unicode_escape')\n",
    "for line in text_data.readlines():\n",
    "  corpus_raw += line\n",
    "text_data.close()\n",
    "corpus_raw = corpus_raw.lower()\n",
    "\n",
    "stop_words = set(stopwords.words('english'))\n",
    "sentences = []\n",
    "raw_sentences = re.split(r\"[.,]\", corpus_raw)\n",
    "for sentence in raw_sentences:\n",
    "  if sentence != '':\n",
    "    tem = re.sub(r'[^\\w\\s]', '', sentence)\n",
    "    temp = re.sub(\"[^a-zA-Z]\",\" \", tem).split()\n",
    "    sent = []\n",
    "    for word in temp:\n",
    "      if word in stop_words:\n",
    "        continue\n",
    "      else:\n",
    "        sent.append(word)\n",
    "    if len(sent) > 1:\n",
    "      sentences.append(sent)\n"
   ]
  },
  {
   "cell_type": "code",
   "execution_count": 35,
   "metadata": {
    "colab": {
     "base_uri": "https://localhost:8080/"
    },
    "id": "fMvmjLr8KOcj",
    "outputId": "8ceca0de-5f3a-4d3d-a447-71e2cd1d10e6"
   },
   "outputs": [
    {
     "name": "stdout",
     "output_type": "stream",
     "text": [
      "EPOCH: 0 LOSS: 418792.2006675749\n",
      "EPOCH: 1 LOSS: 344997.62398655043\n",
      "EPOCH: 2 LOSS: 324960.2463139473\n",
      "EPOCH: 3 LOSS: 314298.1832396988\n",
      "EPOCH: 4 LOSS: 307854.7741422891\n",
      "EPOCH: 5 LOSS: 303660.36458079104\n",
      "EPOCH: 6 LOSS: 300773.11957272026\n",
      "EPOCH: 7 LOSS: 298683.6871652271\n",
      "EPOCH: 8 LOSS: 297108.0315593334\n",
      "EPOCH: 9 LOSS: 295884.3504680997\n",
      "EPOCH: 10 LOSS: 294914.09681428026\n",
      "EPOCH: 11 LOSS: 294132.12263587984\n",
      "EPOCH: 12 LOSS: 293493.0435824752\n",
      "EPOCH: 13 LOSS: 292964.32857977354\n",
      "EPOCH: 14 LOSS: 292522.13939479983\n",
      "EPOCH: 15 LOSS: 292148.6269995554\n",
      "EPOCH: 16 LOSS: 291830.17171167134\n",
      "EPOCH: 17 LOSS: 291556.2424836856\n",
      "EPOCH: 18 LOSS: 291318.6461454263\n",
      "EPOCH: 19 LOSS: 291110.9869682375\n",
      "EPOCH: 20 LOSS: 290928.2425774311\n",
      "EPOCH: 21 LOSS: 290766.4327108488\n",
      "EPOCH: 22 LOSS: 290622.3686513609\n",
      "EPOCH: 23 LOSS: 290493.4661813962\n",
      "EPOCH: 24 LOSS: 290377.6068751948\n"
     ]
    }
   ],
   "source": [
    "# INITIALIZE W2V MODEL\n",
    "w2v = word2vec()\n",
    "\n",
    "# generate training data\n",
    "training_data = w2v.generate_training_data(settings, sentences)\n",
    "\n",
    "# train word2vec model\n",
    "w2v.train(training_data)"
   ]
  },
  {
   "cell_type": "code",
   "execution_count": 36,
   "metadata": {
    "id": "Yfc_ce5sM7s8"
   },
   "outputs": [],
   "source": [
    "import pandas as pd\n",
    "import seaborn as sns\n",
    "losses= w2v.losses"
   ]
  },
  {
   "cell_type": "code",
   "execution_count": 37,
   "metadata": {
    "colab": {
     "base_uri": "https://localhost:8080/"
    },
    "id": "VAu34zwB7RUo",
    "outputId": "515f4471-97c2-4f8d-8a72-8f43ea0c4237"
   },
   "outputs": [
    {
     "name": "stdout",
     "output_type": "stream",
     "text": [
      "[418792.2006675749, 344997.62398655043, 324960.2463139473, 314298.1832396988, 307854.7741422891, 303660.36458079104, 300773.11957272026, 298683.6871652271, 297108.0315593334, 295884.3504680997, 294914.09681428026, 294132.12263587984, 293493.0435824752, 292964.32857977354, 292522.13939479983, 292148.6269995554, 291830.17171167134, 291556.2424836856, 291318.6461454263, 291110.9869682375, 290928.2425774311, 290766.4327108488, 290622.3686513609, 290493.4661813962, 290377.6068751948]\n"
     ]
    }
   ],
   "source": [
    "print(losses)"
   ]
  },
  {
   "cell_type": "code",
   "execution_count": 38,
   "metadata": {
    "colab": {
     "base_uri": "https://localhost:8080/",
     "height": 430
    },
    "id": "jbQ7Min79gBm",
    "outputId": "0935ff8d-2990-4a9d-c9fa-9436c3f1eb44"
   },
   "outputs": [
    {
     "data": {
      "image/png": "[encoded data removed]",
      "text/plain": [
       "<Figure size 640x480 with 1 Axes>"
      ]
     },
     "metadata": {},
     "output_type": "display_data"
    }
   ],
   "source": [
    "import matplotlib.pyplot as plt\n",
    "plt.plot(losses)\n",
    "plt.show()"
   ]
  },
  {
   "cell_type": "code",
   "execution_count": 39,
   "metadata": {
    "colab": {
     "base_uri": "https://localhost:8080/"
    },
    "id": "D027x7vfMtmc",
    "outputId": "24616886-ca36-4413-dcac-1cc50194bb3e"
   },
   "outputs": [
    {
     "name": "stdout",
     "output_type": "stream",
     "text": [
      "machine 1.0\n",
      "sound 0.4305117039222027\n",
      "way 0.4136653665272566\n",
      "main 0.39317381149998926\n",
      "life 0.3890028284734442\n",
      "researchers 0.37535925071277404\n",
      "developers 0.3711661479560831\n",
      "code 0.36342679183031446\n",
      "networks 0.36259860934392424\n",
      "spending 0.3615726550630916\n"
     ]
    }
   ],
   "source": [
    "w2v.word_sim(\"machine\", 10)"
   ]
  },
  {
   "cell_type": "code",
   "execution_count": 40,
   "metadata": {
    "colab": {
     "base_uri": "https://localhost:8080/"
    },
    "id": "Ev5h-DtD7Pcg",
    "outputId": "80199874-bfb0-4c25-b0f5-3c58715a55da"
   },
   "outputs": [
    {
     "name": "stdout",
     "output_type": "stream",
     "text": [
      "electronic 0.9999999999999999\n",
      "film 0.4735984361290346\n",
      "play 0.45575438227104803\n",
      "playing 0.4512876191125915\n",
      "providers 0.4302934567397623\n",
      "students 0.4120180745754165\n",
      "electronics 0.4048204458319531\n",
      "ds 0.3920443095152587\n",
      "commercial 0.37083019852190086\n",
      "mobile 0.3694989863586402\n"
     ]
    }
   ],
   "source": [
    "w2v.word_sim(\"electronic\", 10)"
   ]
  },
  {
   "cell_type": "code",
   "execution_count": 41,
   "metadata": {
    "colab": {
     "base_uri": "https://localhost:8080/"
    },
    "id": "2a69o9K2Hsf7",
    "outputId": "31cf5cc0-0dfa-4bd2-cfda-4dd8f4727bdf"
   },
   "outputs": [
    {
     "name": "stdout",
     "output_type": "stream",
     "text": [
      "pc 0.9999999999999998\n",
      "connected 0.4423840802494852\n",
      "pcs 0.4011017730817533\n",
      "eight 0.3805753663510596\n",
      "systems 0.3780905824052768\n",
      "accounts 0.3737212994957544\n",
      "worth 0.36388779440265634\n",
      "since 0.35268397102408405\n",
      "given 0.3507709220995493\n",
      "conference 0.3438672792856956\n"
     ]
    }
   ],
   "source": [
    "w2v.word_sim(\"pc\", 10)"
   ]
  },
  {
   "cell_type": "code",
   "execution_count": 42,
   "metadata": {
    "colab": {
     "base_uri": "https://localhost:8080/"
    },
    "id": "b-GJ2IR7HuV3",
    "outputId": "d11d2cde-8b66-42f3-dd20-37b3a1c5f70c"
   },
   "outputs": [
    {
     "name": "stdout",
     "output_type": "stream",
     "text": [
      "mobile 1.0000000000000002\n",
      "sports 0.43932848530433527\n",
      "record 0.4344518005922611\n",
      "add 0.40686589765555903\n",
      "electronic 0.3694989863586402\n",
      "also 0.3677132625364399\n",
      "electronics 0.352012238819766\n",
      "british 0.3356343413700376\n",
      "store 0.3326327005893246\n",
      "carry 0.3268066776333928\n"
     ]
    }
   ],
   "source": [
    "w2v.word_sim(\"mobile\", 10)"
   ]
  },
  {
   "cell_type": "code",
   "execution_count": 43,
   "metadata": {
    "colab": {
     "base_uri": "https://localhost:8080/"
    },
    "id": "P7I-dNBTmJuO",
    "outputId": "0137ea63-8d6d-4dc2-932a-a13334810b87"
   },
   "outputs": [
    {
     "name": "stdout",
     "output_type": "stream",
     "text": [
      "new 1.0000000000000002\n",
      "next 0.384670948185201\n",
      "groups 0.38376294726410676\n",
      "european 0.37023507046314286\n",
      "xp 0.3625786564093264\n",
      "current 0.35338020913909896\n",
      "similar 0.34736787387306034\n",
      "learning 0.3315814608438181\n",
      "bill 0.330625178053006\n",
      "bloggers 0.3288304654704399\n"
     ]
    }
   ],
   "source": [
    "w2v.word_sim(\"new\", 10)"
   ]
  },
  {
   "cell_type": "code",
   "execution_count": 44,
   "metadata": {
    "colab": {
     "base_uri": "https://localhost:8080/"
    },
    "id": "RpOoIGilmTmt",
    "outputId": "95df0d0f-e15d-4d97-8095-a21c7945489f"
   },
   "outputs": [
    {
     "name": "stdout",
     "output_type": "stream",
     "text": [
      "digital 1.0\n",
      "ea 0.4795866372153798\n",
      "finding 0.4600691495699978\n",
      "fans 0.4245989305813185\n",
      "today 0.33388892633897105\n",
      "focus 0.32971827335792464\n",
      "reason 0.32948672001573365\n",
      "keyboard 0.3272027872992932\n",
      "capacity 0.3221010284489561\n",
      "sold 0.31975325390228854\n"
     ]
    }
   ],
   "source": [
    "w2v.word_sim(\"digital\", 10)"
   ]
  },
  {
   "cell_type": "code",
   "execution_count": 45,
   "metadata": {
    "colab": {
     "base_uri": "https://localhost:8080/"
    },
    "id": "WUZ1PbDNmVfO",
    "outputId": "186f4053-d3cf-49f9-fcb8-8206aa4fd732"
   },
   "outputs": [
    {
     "name": "stdout",
     "output_type": "stream",
     "text": [
      "software 1.0000000000000002\n",
      "brand 0.5685622077780333\n",
      "programs 0.43580559512646744\n",
      "decision 0.42205351693578874\n",
      "team 0.40823585343287216\n",
      "considered 0.40323158681756943\n",
      "program 0.3955301952693829\n",
      "thousands 0.37749531033680145\n",
      "image 0.35648934926823755\n",
      "keen 0.3420530093017575\n"
     ]
    }
   ],
   "source": [
    "w2v.word_sim(\"software\", 10)"
   ]
  },
  {
   "cell_type": "code",
   "execution_count": 46,
   "metadata": {
    "colab": {
     "base_uri": "https://localhost:8080/"
    },
    "id": "yia6mhq4on3f",
    "outputId": "6a56e97b-4bac-43c2-f7ba-e95da17ce579"
   },
   "outputs": [
    {
     "name": "stdout",
     "output_type": "stream",
     "text": [
      "phone 1.0\n",
      "phones 0.6983888772229204\n",
      "telephone 0.400386903377863\n",
      "owners 0.3615482297380421\n",
      "energy 0.3402141047527775\n",
      "senior 0.3364001398502664\n",
      "work 0.33600070302292\n",
      "four 0.33215326678500745\n",
      "peertopeer 0.32978998822145356\n",
      "association 0.3295384066727901\n"
     ]
    }
   ],
   "source": [
    "w2v.word_sim(\"phone\", 10)"
   ]
  },
  {
   "cell_type": "code",
   "execution_count": 47,
   "metadata": {
    "colab": {
     "base_uri": "https://localhost:8080/"
    },
    "id": "avnbrsaLosQG",
    "outputId": "2a817623-646b-4ccf-ff09-2a479c5cf5d4"
   },
   "outputs": [
    {
     "name": "stdout",
     "output_type": "stream",
     "text": [
      "computer 1.0\n",
      "computers 0.5003990712247613\n",
      "played 0.43449449846748084\n",
      "better 0.426656195536138\n",
      "speed 0.41446869973785533\n",
      "produce 0.38585051443781604\n",
      "things 0.3847106546376683\n",
      "usually 0.3815319688930045\n",
      "operating 0.3466949679408942\n",
      "someone 0.34362267043394706\n"
     ]
    }
   ],
   "source": [
    "w2v.word_sim(\"computer\", 10)"
   ]
  },
  {
   "cell_type": "code",
   "execution_count": 48,
   "metadata": {
    "colab": {
     "base_uri": "https://localhost:8080/"
    },
    "id": "EHZQtIOUowAm",
    "outputId": "9a79d6fa-c3b9-4ac4-eec2-6c85a791f391"
   },
   "outputs": [
    {
     "name": "stdout",
     "output_type": "stream",
     "text": [
      "data 1.0\n",
      "especially 0.4891146048731493\n",
      "xp 0.41612270875327695\n",
      "price 0.4118902423842395\n",
      "power 0.4020355497968059\n",
      "demand 0.3883442561775899\n",
      "files 0.37405379695603874\n",
      "problems 0.3716795262149897\n",
      "businesses 0.36138114270202165\n",
      "built 0.35716016579752363\n"
     ]
    }
   ],
   "source": [
    "w2v.word_sim(\"data\", 10)"
   ]
  },
  {
   "cell_type": "code",
   "execution_count": 49,
   "metadata": {
    "id": "pCSTssjK83ab"
   },
   "outputs": [],
   "source": []
  }
 ],
 "metadata": {
  "colab": {
   "provenance": []
  },
  "kernelspec": {
   "display_name": "Python 3 (ipykernel)",
   "language": "python",
   "name": "python3"
  },
  "language_info": {
   "codemirror_mode": {
    "name": "ipython",
    "version": 3
   },
   "file_extension": ".py",
   "mimetype": "text/x-python",
   "name": "python",
   "nbconvert_exporter": "python",
   "pygments_lexer": "ipython3",
   "version": "3.11.3"
  }
 },
 "nbformat": 4,
 "nbformat_minor": 1
}
